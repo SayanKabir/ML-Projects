{
  "nbformat": 4,
  "nbformat_minor": 0,
  "metadata": {
    "colab": {
      "provenance": []
    },
    "kernelspec": {
      "name": "python3",
      "display_name": "Python 3"
    },
    "language_info": {
      "name": "python"
    },
    "accelerator": "GPU",
    "gpuClass": "standard"
  },
  "cells": [
    {
      "cell_type": "markdown",
      "source": [
        "## Imports"
      ],
      "metadata": {
        "id": "SmMFd-Ot3ojd"
      }
    },
    {
      "cell_type": "code",
      "execution_count": null,
      "metadata": {
        "id": "tv9VoSAD3JwE"
      },
      "outputs": [],
      "source": [
        "import numpy as np\n",
        "import keras\n",
        "\n",
        "from keras.models import Sequential\n",
        "from keras.layers import Dense, Dropout\n",
        "from sklearn.metrics import confusion_matrix\n",
        "\n",
        "import matplotlib.pyplot as plt\n",
        "import seaborn as sns\n",
        "\n",
        "%matplotlib inline\n",
        "\n",
        "np.random.seed(0)"
      ]
    },
    {
      "cell_type": "markdown",
      "source": [
        "## Getting the Data"
      ],
      "metadata": {
        "id": "T7DuE7VZ5MBN"
      }
    },
    {
      "cell_type": "code",
      "source": [
        "from keras.datasets import mnist\n",
        "(x_train, y_train), (x_test, y_test) = mnist.load_data()"
      ],
      "metadata": {
        "id": "GlybnfhK4RZW"
      },
      "execution_count": null,
      "outputs": []
    },
    {
      "cell_type": "code",
      "source": [
        "print(x_train.shape, y_train.shape)\n",
        "print(x_test.shape, y_test.shape)"
      ],
      "metadata": {
        "colab": {
          "base_uri": "https://localhost:8080/"
        },
        "id": "xv1BY9Vc5dw6",
        "outputId": "1c2d4af4-8064-4b4f-a6b7-21fa4ed49193"
      },
      "execution_count": null,
      "outputs": [
        {
          "output_type": "stream",
          "name": "stdout",
          "text": [
            "(60000, 28, 28) (60000,)\n",
            "(10000, 28, 28) (10000,)\n"
          ]
        }
      ]
    },
    {
      "cell_type": "markdown",
      "source": [
        "## Visualizing the Data"
      ],
      "metadata": {
        "id": "kHAkqm5P5ppk"
      }
    },
    {
      "cell_type": "code",
      "source": [
        "# nr_classes = 10\n",
        "# plt.figure(figsize=(20, 20))\n",
        "\n",
        "# for i in range(nr_classes):\n",
        "#   plt.subplot(1, nr_classes, i+1)\n",
        "#   image = x_train[y_train==i][0]\n",
        "#   plt.imshow(image, cmap=\"gray\")\n",
        "#   plt.title(f\"Label {i}\", fontsize=16)"
      ],
      "metadata": {
        "id": "cDgfhnIE5ob-"
      },
      "execution_count": null,
      "outputs": []
    },
    {
      "cell_type": "code",
      "source": [
        "nr_classes = 10\n",
        "figure, axes = plt.subplots(1, nr_classes, figsize=(20, 20))\n",
        "\n",
        "for i in range(nr_classes):\n",
        "  image = x_train[y_train==i][0]\n",
        "  axes[i].imshow(image, cmap=\"gray\")\n",
        "  axes[i].set_title(f\"Label {i}\", fontsize=14)\n",
        "  axes[i].set_xticks([])\n",
        "  axes[i].set_yticks([])"
      ],
      "metadata": {
        "colab": {
          "base_uri": "https://localhost:8080/",
          "height": 142
        },
        "id": "ErgCg9bK6nRX",
        "outputId": "c8d1298e-5934-4b61-8d1c-956ade9eb286"
      },
      "execution_count": null,
      "outputs": [
        {
          "output_type": "display_data",
          "data": {
            "text/plain": [
              "<Figure size 1440x1440 with 10 Axes>"
            ],
            "image/png": "[encoded data removed]"
          },
          "metadata": {}
        }
      ]
    },
    {
      "cell_type": "code",
      "source": [
        "for i in range(nr_classes):\n",
        "  print(y_train[i])"
      ],
      "metadata": {
        "colab": {
          "base_uri": "https://localhost:8080/"
        },
        "id": "S0gDhZqk8HDB",
        "outputId": "27ae4aea-be3a-42ee-d731-c4e929877779"
      },
      "execution_count": null,
      "outputs": [
        {
          "output_type": "stream",
          "name": "stdout",
          "text": [
            "5\n",
            "0\n",
            "4\n",
            "1\n",
            "9\n",
            "2\n",
            "1\n",
            "3\n",
            "1\n",
            "4\n"
          ]
        }
      ]
    },
    {
      "cell_type": "markdown",
      "source": [
        "### One-hot encoding"
      ],
      "metadata": {
        "id": "7nMDEIKl71Id"
      }
    },
    {
      "cell_type": "code",
      "source": [
        "# y_train = np.eye(nr_classes)[y_train]\n",
        "# y_test = np.eye(nr_classes)[y_test]"
      ],
      "metadata": {
        "id": "7QVi--rO8pih"
      },
      "execution_count": null,
      "outputs": []
    },
    {
      "cell_type": "code",
      "source": [
        "y_train = keras.utils.to_categorical(y_train, nr_classes)\n",
        "y_test = keras.utils.to_categorical(y_test, nr_classes)"
      ],
      "metadata": {
        "id": "ll_MOyYb7ZYR"
      },
      "execution_count": null,
      "outputs": []
    },
    {
      "cell_type": "code",
      "source": [
        "for i in range(nr_classes):\n",
        "  print(y_train[i])"
      ],
      "metadata": {
        "colab": {
          "base_uri": "https://localhost:8080/"
        },
        "outputId": "7015a98b-1cbd-4272-c178-fbb201f6060e",
        "id": "j85U8zM5-EsP"
      },
      "execution_count": null,
      "outputs": [
        {
          "output_type": "stream",
          "name": "stdout",
          "text": [
            "[0. 0. 0. 0. 0. 1. 0. 0. 0. 0.]\n",
            "[1. 0. 0. 0. 0. 0. 0. 0. 0. 0.]\n",
            "[0. 0. 0. 0. 1. 0. 0. 0. 0. 0.]\n",
            "[0. 1. 0. 0. 0. 0. 0. 0. 0. 0.]\n",
            "[0. 0. 0. 0. 0. 0. 0. 0. 0. 1.]\n",
            "[0. 0. 1. 0. 0. 0. 0. 0. 0. 0.]\n",
            "[0. 1. 0. 0. 0. 0. 0. 0. 0. 0.]\n",
            "[0. 0. 0. 1. 0. 0. 0. 0. 0. 0.]\n",
            "[0. 1. 0. 0. 0. 0. 0. 0. 0. 0.]\n",
            "[0. 0. 0. 0. 1. 0. 0. 0. 0. 0.]\n"
          ]
        }
      ]
    },
    {
      "cell_type": "markdown",
      "source": [
        "### Prepare the Data - normalizing"
      ],
      "metadata": {
        "id": "xUbcGFAw-Jjc"
      }
    },
    {
      "cell_type": "code",
      "source": [
        "x_train = x_train/255.0\n",
        "x_test = x_test/255.0"
      ],
      "metadata": {
        "id": "byBujaZN-HoP"
      },
      "execution_count": null,
      "outputs": []
    },
    {
      "cell_type": "code",
      "source": [
        "x_train[0].shape"
      ],
      "metadata": {
        "colab": {
          "base_uri": "https://localhost:8080/"
        },
        "id": "-Kqd2EUt-Yj3",
        "outputId": "2ed7b67e-a04b-4c95-a51a-e43464376578"
      },
      "execution_count": null,
      "outputs": [
        {
          "output_type": "execute_result",
          "data": {
            "text/plain": [
              "(28, 28)"
            ]
          },
          "metadata": {},
          "execution_count": 37
        }
      ]
    },
    {
      "cell_type": "code",
      "source": [
        "# Flattening the data"
      ],
      "metadata": {
        "id": "di8pRIl8-b3W"
      },
      "execution_count": null,
      "outputs": []
    },
    {
      "cell_type": "code",
      "source": [
        "x_train = x_train.reshape(x_train.shape[0], -1)\n",
        "x_test = x_test.reshape(x_test.shape[0], -1)"
      ],
      "metadata": {
        "id": "3Q4JDM9z-eLx"
      },
      "execution_count": null,
      "outputs": []
    },
    {
      "cell_type": "code",
      "source": [
        "x_train[0].shape"
      ],
      "metadata": {
        "colab": {
          "base_uri": "https://localhost:8080/"
        },
        "id": "aXjKqLBS-v9R",
        "outputId": "425ee778-20db-4e26-92a9-7d1bcd03faea"
      },
      "execution_count": null,
      "outputs": [
        {
          "output_type": "execute_result",
          "data": {
            "text/plain": [
              "(784,)"
            ]
          },
          "metadata": {},
          "execution_count": 40
        }
      ]
    },
    {
      "cell_type": "markdown",
      "source": [
        "## Create Model"
      ],
      "metadata": {
        "id": "ZNTbekPS-74i"
      }
    },
    {
      "cell_type": "code",
      "source": [
        "model = Sequential([\n",
        "    Dense(units=128, input_shape=(784, ), activation=\"relu\"),\n",
        "    Dense(units=128, activation=\"relu\"),\n",
        "    Dropout(0.25),\n",
        "    Dense(units=10, activation=\"softmax\")\n",
        "])\n",
        "\n",
        "model.compile(loss=\"categorical_crossentropy\", optimizer=\"adam\", metrics=[\"accuracy\"])\n",
        "model.summary()"
      ],
      "metadata": {
        "colab": {
          "base_uri": "https://localhost:8080/"
        },
        "id": "s6FvYtSL-x3M",
        "outputId": "055c80b7-a3b4-48fc-bfe8-3592572b19ac"
      },
      "execution_count": null,
      "outputs": [
        {
          "output_type": "stream",
          "name": "stdout",
          "text": [
            "Model: \"sequential_1\"\n",
            "_________________________________________________________________\n",
            " Layer (type)                Output Shape              Param #   \n",
            "=================================================================\n",
            " dense_3 (Dense)             (None, 128)               100480    \n",
            "                                                                 \n",
            " dense_4 (Dense)             (None, 128)               16512     \n",
            "                                                                 \n",
            " dropout_1 (Dropout)         (None, 128)               0         \n",
            "                                                                 \n",
            " dense_5 (Dense)             (None, 10)                1290      \n",
            "                                                                 \n",
            "=================================================================\n",
            "Total params: 118,282\n",
            "Trainable params: 118,282\n",
            "Non-trainable params: 0\n",
            "_________________________________________________________________\n"
          ]
        }
      ]
    },
    {
      "cell_type": "markdown",
      "source": [
        "## Training the Model"
      ],
      "metadata": {
        "id": "aDluRpNU_3z_"
      }
    },
    {
      "cell_type": "code",
      "source": [
        "batch_size = 512\n",
        "epochs = 10\n",
        "\n",
        "model.fit(x=x_train, y=y_train, batch_size=batch_size, epochs=epochs)\n"
      ],
      "metadata": {
        "colab": {
          "base_uri": "https://localhost:8080/"
        },
        "id": "-73eVGow_vWh",
        "outputId": "0c70246e-b313-4760-be37-ea5e2c97e501"
      },
      "execution_count": null,
      "outputs": [
        {
          "output_type": "stream",
          "name": "stdout",
          "text": [
            "Epoch 1/10\n",
            "118/118 [==============================] - 5s 4ms/step - loss: 0.6043 - accuracy: 0.8257\n",
            "Epoch 2/10\n",
            "118/118 [==============================] - 0s 4ms/step - loss: 0.2224 - accuracy: 0.9361\n",
            "Epoch 3/10\n",
            "118/118 [==============================] - 0s 4ms/step - loss: 0.1625 - accuracy: 0.9527\n",
            "Epoch 4/10\n",
            "118/118 [==============================] - 0s 4ms/step - loss: 0.1276 - accuracy: 0.9629\n",
            "Epoch 5/10\n",
            "118/118 [==============================] - 0s 3ms/step - loss: 0.1047 - accuracy: 0.9684\n",
            "Epoch 6/10\n",
            "118/118 [==============================] - 0s 4ms/step - loss: 0.0874 - accuracy: 0.9746\n",
            "Epoch 7/10\n",
            "118/118 [==============================] - 1s 5ms/step - loss: 0.0769 - accuracy: 0.9772\n",
            "Epoch 8/10\n",
            "118/118 [==============================] - 1s 5ms/step - loss: 0.0681 - accuracy: 0.9795\n",
            "Epoch 9/10\n",
            "118/118 [==============================] - 1s 5ms/step - loss: 0.0590 - accuracy: 0.9821\n",
            "Epoch 10/10\n",
            "118/118 [==============================] - 1s 5ms/step - loss: 0.0518 - accuracy: 0.9844\n"
          ]
        },
        {
          "output_type": "execute_result",
          "data": {
            "text/plain": [
              "<keras.callbacks.History at 0x7f3bc2dc67f0>"
            ]
          },
          "metadata": {},
          "execution_count": 42
        }
      ]
    },
    {
      "cell_type": "markdown",
      "source": [
        "## Evaluate"
      ],
      "metadata": {
        "id": "3qT80xTgALTZ"
      }
    },
    {
      "cell_type": "code",
      "source": [
        "test_loss, test_acc = model.evaluate(x_test, y_test)\n",
        "print(f\"Test Loss: {test_loss}\\t|Test Accuracy: {test_acc}\")"
      ],
      "metadata": {
        "colab": {
          "base_uri": "https://localhost:8080/"
        },
        "id": "_scvCwmLADZA",
        "outputId": "b0ae3581-6746-47b5-e0e0-70a604021063"
      },
      "execution_count": null,
      "outputs": [
        {
          "output_type": "stream",
          "name": "stdout",
          "text": [
            "313/313 [==============================] - 1s 2ms/step - loss: 0.0737 - accuracy: 0.9767\n",
            "Test Loss: 0.07367374002933502\t|Test Accuracy: 0.9767000079154968\n"
          ]
        }
      ]
    },
    {
      "cell_type": "markdown",
      "source": [
        "### Predict"
      ],
      "metadata": {
        "id": "Y86YrfS_A-tZ"
      }
    },
    {
      "cell_type": "code",
      "source": [
        "y_pred = model.predict(x_test)\n",
        "y_pred_classes = np.argmax(y_pred, axis=1)\n",
        "print(y_pred_classes)"
      ],
      "metadata": {
        "colab": {
          "base_uri": "https://localhost:8080/"
        },
        "id": "874HmMAPAas7",
        "outputId": "654eebd7-0e5a-47cb-b253-1f892595eeb5"
      },
      "execution_count": null,
      "outputs": [
        {
          "output_type": "stream",
          "name": "stdout",
          "text": [
            "313/313 [==============================] - 0s 1ms/step\n",
            "[7 2 1 ... 4 5 6]\n"
          ]
        }
      ]
    },
    {
      "cell_type": "code",
      "source": [
        "random_size = 5\n",
        "figure, axes = plt.subplots(1, random_size, figsize=(20, 20))\n",
        "y_true = np.argmax(y_test, axis=1)\n",
        "\n",
        "for i in range(random_size):\n",
        "  random_idx = np.random.choice(len(x_test))\n",
        "  x_sample = x_test[random_idx]\n",
        "  y_sample_true = y_true[random_idx]\n",
        "  y_sample_pred_class = y_pred_classes[random_idx]\n",
        "\n",
        "  axes[i].set_title(f\"Predicted: {y_sample_pred_class} | True={y_sample_true}\", fontsize=16)\n",
        "  axes[i].imshow(x_sample.reshape(28, 28), cmap=\"gray\")\n",
        "  axes[i].set_xticks([])\n",
        "  axes[i].set_yticks([])"
      ],
      "metadata": {
        "colab": {
          "base_uri": "https://localhost:8080/",
          "height": 241
        },
        "id": "Fe1grMsPBMTR",
        "outputId": "ad94eaa3-e4a0-4fbb-981f-14a6ef1cb212"
      },
      "execution_count": null,
      "outputs": [
        {
          "output_type": "display_data",
          "data": {
            "text/plain": [
              "<Figure size 1440x1440 with 5 Axes>"
            ],
            "image/png": "[encoded data removed]"
          },
          "metadata": {}
        }
      ]
    },
    {
      "cell_type": "markdown",
      "source": [
        "## Confusion Matrix"
      ],
      "metadata": {
        "id": "SLf4orz2Cuig"
      }
    },
    {
      "cell_type": "code",
      "source": [
        "# conf = confusion_matrix(y_true, y_pred_classes)\n",
        "\n",
        "# plt.figure(figsize=(10, 10))\n",
        "# plt.imshow(conf, cmap=\"Greens\")\n",
        "\n",
        "# plt.title(\"Confusion Matrix\", fontsize=16)\n",
        "# plt.ylabel(\"Actual Labels\", fontsize=13)\n",
        "# plt.xlabel(\"Predicted Labels\", fontsize=13)\n",
        "\n",
        "# LABELS = np.linspace(start=0, stop=9, num=10)\n",
        "# tick_marks = np.arange(nr_classes)\n",
        "# plt.yticks(tick_marks, LABELS)\n",
        "# plt.xticks(tick_marks, LABELS)\n",
        "\n",
        "# plt.colorbar()"
      ],
      "metadata": {
        "id": "YxD6t-k3B9XQ"
      },
      "execution_count": null,
      "outputs": []
    },
    {
      "cell_type": "code",
      "source": [
        "conf = confusion_matrix(y_true=y_true, y_pred=y_pred_classes)\n",
        "\n",
        "figure, axes = plt.subplots(figsize=(15, 10))\n",
        "axes = sns.heatmap(conf, annot=True, fmt=\"d\", cmap=\"Greens\")\n",
        "axes.set_xlabel(\"Predicted Label\", fontsize=14)\n",
        "axes.set_ylabel(\"True Label\", fontsize=14)\n",
        "axes.set_title(\"Confusion Matrix\", fontsize=16)"
      ],
      "metadata": {
        "colab": {
          "base_uri": "https://localhost:8080/",
          "height": 644
        },
        "id": "qgncvy2mHztT",
        "outputId": "a7d525eb-520f-4fca-e0c4-8db2af75d909"
      },
      "execution_count": null,
      "outputs": [
        {
          "output_type": "execute_result",
          "data": {
            "text/plain": [
              "Text(0.5, 1.0, 'Confusion Matrix')"
            ]
          },
          "metadata": {},
          "execution_count": 47
        },
        {
          "output_type": "display_data",
          "data": {
            "text/plain": [
              "<Figure size 1080x720 with 2 Axes>"
            ],
            "image/png": "[encoded data removed]"
          },
          "metadata": {
            "needs_background": "light"
          }
        }
      ]
    },
    {
      "cell_type": "markdown",
      "source": [
        "## Investigate Some Errors"
      ],
      "metadata": {
        "id": "lEuBrMHmJOra"
      }
    },
    {
      "cell_type": "code",
      "source": [
        "errors = (y_pred_classes != y_true)\n",
        "y_pred_classes_errors = y_pred_classes[errors]\n",
        "y_pred_errors = y_pred[errors]\n",
        "y_true_errors = y_true[errors]\n",
        "x_test_errors = x_test[errors]"
      ],
      "metadata": {
        "id": "yNi27EAgIvUW"
      },
      "execution_count": null,
      "outputs": []
    },
    {
      "cell_type": "code",
      "source": [
        "y_pred_errors_probability = np.max(y_pred_errors, axis=1)\n",
        "true_probability_errors = np.diagonal(np.take(y_pred_errors, y_true_errors, axis=1))\n",
        "diff_errors_pred_true = y_pred_errors_probability - true_probability_errors\n",
        "\n",
        "sorted_idx_diff_errors = np.argsort(diff_errors_pred_true)\n",
        "top_idx_diff_errors = sorted_idx_diff_errors[-5:]"
      ],
      "metadata": {
        "id": "jYWisSu2Jtm8"
      },
      "execution_count": null,
      "outputs": []
    },
    {
      "cell_type": "code",
      "source": [
        "num = len(top_idx_diff_errors)\n",
        "figure, axes = plt.subplots(1, num, figsize=(30, 30))\n",
        "\n",
        "for i in range(num):\n",
        "  idx = top_idx_diff_errors[i]\n",
        "  sample = x_test_errors[idx].reshape(28, 28)\n",
        "  y_t = y_true_errors[idx]\n",
        "  y_p = y_pred_classes_errors[idx]\n",
        "  axes[i].imshow(sample, cmap=\"gray\")\n",
        "  axes[i].set_title(f\"Predicted Label: {y_p} | True Label: {y_t}\", fontsize=16)"
      ],
      "metadata": {
        "colab": {
          "base_uri": "https://localhost:8080/",
          "height": 246
        },
        "id": "cHb9Htz5KN2D",
        "outputId": "91f67a73-90cc-47d2-9555-bcd51e0ffc0d"
      },
      "execution_count": null,
      "outputs": [
        {
          "output_type": "display_data",
          "data": {
            "text/plain": [
              "<Figure size 2160x2160 with 5 Axes>"
            ],
            "image/png": "[encoded data removed]"
          },
          "metadata": {
            "needs_background": "light"
          }
        }
      ]
    },
    {
      "cell_type": "markdown",
      "source": [
        "## Saving and Loading Models"
      ],
      "metadata": {
        "id": "UoCyrQu9wZv2"
      }
    },
    {
      "cell_type": "code",
      "source": [
        "from google.colab import drive\n",
        "drive.mount('/content/drive')\n",
        "\n",
        "model_save_path = \"/content/drive/MyDrive/_TRAINED_MODELS/mnist_handwritten_digit_classification_model\""
      ],
      "metadata": {
        "colab": {
          "base_uri": "https://localhost:8080/"
        },
        "id": "NDHaHd880lfG",
        "outputId": "0b19bc2a-b253-4f7e-853c-b910f5f72580"
      },
      "execution_count": null,
      "outputs": [
        {
          "output_type": "stream",
          "name": "stdout",
          "text": [
            "Mounted at /content/drive\n"
          ]
        }
      ]
    },
    {
      "cell_type": "code",
      "source": [
        "model.save(model_save_path)"
      ],
      "metadata": {
        "id": "l1UDpOyKLTM0"
      },
      "execution_count": null,
      "outputs": []
    },
    {
      "cell_type": "code",
      "source": [
        "loaded_model = keras.models.load_model(model_save_path)\n",
        "loaded_model.summary()"
      ],
      "metadata": {
        "colab": {
          "base_uri": "https://localhost:8080/"
        },
        "id": "-_YBMoqH1DTt",
        "outputId": "2232bd12-1dd6-4c63-8cf0-fe05011d1a20"
      },
      "execution_count": null,
      "outputs": [
        {
          "output_type": "stream",
          "name": "stdout",
          "text": [
            "Model: \"sequential_1\"\n",
            "_________________________________________________________________\n",
            " Layer (type)                Output Shape              Param #   \n",
            "=================================================================\n",
            " dense_3 (Dense)             (None, 128)               100480    \n",
            "                                                                 \n",
            " dense_4 (Dense)             (None, 128)               16512     \n",
            "                                                                 \n",
            " dropout_1 (Dropout)         (None, 128)               0         \n",
            "                                                                 \n",
            " dense_5 (Dense)             (None, 10)                1290      \n",
            "                                                                 \n",
            "=================================================================\n",
            "Total params: 118,282\n",
            "Trainable params: 118,282\n",
            "Non-trainable params: 0\n",
            "_________________________________________________________________\n"
          ]
        }
      ]
    },
    {
      "cell_type": "code",
      "source": [],
      "metadata": {
        "id": "BTmd36Di1ukq"
      },
      "execution_count": null,
      "outputs": []
    }
  ]
}